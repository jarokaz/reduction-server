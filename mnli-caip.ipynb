{
 "cells": [
  {
   "cell_type": "markdown",
   "metadata": {},
   "source": [
    "# Distributed training with Vertex Reduction server"
   ]
  },
  {
   "cell_type": "code",
   "execution_count": 1,
   "metadata": {},
   "outputs": [],
   "source": [
    "import os\n",
    "import pprint\n",
    "import sys\n",
    "import time\n",
    "\n",
    "from google.cloud import aiplatform\n",
    "from google.cloud.aiplatform_v1beta1 import types\n",
    "from google.cloud.aiplatform_v1beta1.services.job_service import \\\n",
    "    JobServiceClient"
   ]
  },
  {
   "cell_type": "markdown",
   "metadata": {},
   "source": [
    "## Set up environment"
   ]
  },
  {
   "cell_type": "code",
   "execution_count": 2,
   "metadata": {},
   "outputs": [],
   "source": [
    "PROJECT = 'jk-mlops-dev'\n",
    "REGION = 'us-central1'\n",
    "API_ENDPOINT = f'{REGION}-aiplatform.googleapis.com'\n",
    "ARTIFACT_REPO = f'jk-docker-repo-{REGION}'"
   ]
  },
  {
   "cell_type": "markdown",
   "metadata": {},
   "source": [
    "## Prepare  a training container"
   ]
  },
  {
   "cell_type": "markdown",
   "metadata": {},
   "source": [
    "### Create a Dockerfile"
   ]
  },
  {
   "cell_type": "code",
   "execution_count": 3,
   "metadata": {},
   "outputs": [],
   "source": [
    "BASE_IMAGE = 'gcr.io/deeplearning-platform-release/tf2-gpu.2-5'\n",
    "MODEL_GARDEN_VERSION = '2.5.0'\n",
    "TF_TEXT='2.5.0'\n",
    "TRAIN_IMAGE = f'{REGION}-docker.pkg.dev/{PROJECT}/{ARTIFACT_REPO}/model_garden'\n",
    "\n",
    "dockerfile = f'''\n",
    "FROM {BASE_IMAGE}\n",
    "\n",
    "RUN apt remove -y google-fast-socket && \\\n",
    "    echo \"deb https://packages.cloud.google.com/apt google-fast-socket main\" | tee /etc/apt/sources.list.d/google-fast-socket.list && \\\n",
    "    curl -s -L https://packages.cloud.google.com/apt/doc/apt-key.gpg | apt-key add - && \\\n",
    "    apt update && apt install -y google-reduction-server\n",
    "\n",
    "RUN pip install tf-models-official=={MODEL_GARDEN_VERSION} tensorflow-text=={TF_TEXT}\n",
    "\n",
    "WORKDIR /\n",
    "\n",
    "# Copies the trainer code to the docker image.\n",
    "COPY trainer /trainer\n",
    "\n",
    "ENTRYPOINT [\"python\"]\n",
    "CMD [\"-c\", \"print('Hello')\"]\n",
    "'''\n",
    "\n",
    "with open('Dockerfile', 'w') as f:\n",
    "    f.write(dockerfile)"
   ]
  },
  {
   "cell_type": "markdown",
   "metadata": {},
   "source": [
    "### Build a container image"
   ]
  },
  {
   "cell_type": "code",
   "execution_count": 4,
   "metadata": {},
   "outputs": [
    {
     "name": "stdout",
     "output_type": "stream",
     "text": [
      "\n",
      "Step 1/7 : FROM gcr.io/deeplearning-platform-release/tf2-gpu.2-5\n",
      " ---> b963122c3c2c\n",
      "Step 2/7 : RUN apt remove -y google-fast-socket &&     echo \"deb https://packages.cloud.google.com/apt google-fast-socket main\" | tee /etc/apt/sources.list.d/google-fast-socket.list &&     curl -s -L https://packages.cloud.google.com/apt/doc/apt-key.gpg | apt-key add - &&     apt update && apt install -y google-reduction-server\n",
      " ---> Using cache\n",
      " ---> b5c475a6b8e1\n",
      "Step 3/7 : RUN pip install tf-models-official==2.5.0 tensorflow-text==2.5.0\n",
      " ---> Using cache\n",
      " ---> 13bdf2be97e5\n",
      "Step 4/7 : WORKDIR /\n",
      " ---> Using cache\n",
      " ---> 8c4ebbb80601\n",
      "Step 5/7 : COPY trainer /trainer\n",
      " ---> df0c5815ff97\n",
      "Step 6/7 : ENTRYPOINT [\"python\"]\n",
      " ---> Running in 7db937b1d4ca\n",
      "Removing intermediate container 7db937b1d4ca\n",
      " ---> 7c4e387ec46d\n",
      "Step 7/7 : CMD [\"-c\", \"print('Hello')\"]\n",
      " ---> Running in e420b45f4ee0\n",
      "Removing intermediate container e420b45f4ee0\n",
      " ---> dd409ba47434\n",
      "Successfully built dd409ba47434\n",
      "Successfully tagged us-central1-docker.pkg.dev/jk-mlops-dev/jk-docker-repo-us-central1/model_garden:latest\n"
     ]
    }
   ],
   "source": [
    "! docker build -t {TRAIN_IMAGE} ."
   ]
  },
  {
   "cell_type": "markdown",
   "metadata": {},
   "source": [
    "### Push the container to Container Registry"
   ]
  },
  {
   "cell_type": "code",
   "execution_count": 5,
   "metadata": {},
   "outputs": [
    {
     "name": "stdout",
     "output_type": "stream",
     "text": [
      "Using default tag: latest\n",
      "The push refers to repository [us-central1-docker.pkg.dev/jk-mlops-dev/jk-docker-repo-us-central1/model_garden]\n",
      "\n",
      "\u001b[1B\n",
      "\u001b[1B\n",
      "\u001b[1B\n",
      "\u001b[1B\n",
      "\u001b[1B\n",
      "\u001b[1B\n",
      "\u001b[1B\n",
      "\u001b[1B\n",
      "\u001b[1B\n",
      "\u001b[1B\n",
      "\u001b[1B\n",
      "\u001b[1B\n",
      "\u001b[1B\n",
      "\u001b[1B\n",
      "\u001b[1B\n",
      "\u001b[1B\n",
      "\u001b[1B\n",
      "\u001b[1B\n",
      "\u001b[1B\n",
      "\u001b[1B\n",
      "\u001b[1B\n",
      "\u001b[1B\n",
      "\u001b[1B\n",
      "\u001b[1B\n",
      "\u001b[1B\n",
      "\u001b[1B\n",
      "\u001b[1B\n",
      "\u001b[1B\n",
      "\u001b[1B\n",
      "\u001b[1B\n",
      "\u001b[1B\n",
      "\u001b[1B\n",
      "\u001b[1B\n",
      "\u001b[1B\n",
      "\u001b[1Blatest: digest: sha256:c849eee25fe1a590528a6fc13ec7671a8ae6c978a259f0b70c899da99ff99bc0 size: 7673\n"
     ]
    }
   ],
   "source": [
    "! docker push {TRAIN_IMAGE}"
   ]
  },
  {
   "cell_type": "markdown",
   "metadata": {},
   "source": [
    "## Submit Vertext Training jobs\n"
   ]
  },
  {
   "cell_type": "markdown",
   "metadata": {},
   "source": [
    "### Define helper functions"
   ]
  },
  {
   "cell_type": "code",
   "execution_count": 6,
   "metadata": {},
   "outputs": [],
   "source": [
    "def prepare_worker_pool_specs(\n",
    "    image_uri,\n",
    "    args,\n",
    "    cmd, \n",
    "    replica_count=1,\n",
    "    machine_type='n1-standard-4',\n",
    "    accelerator_count=0,\n",
    "    accelerator_type='ACCELERATOR_TYPE_UNSPECIFIED',\n",
    "    reduction_server_count=0,\n",
    "    reduction_server_machine_type='n1-highcpu-16',\n",
    "    reduction_server_image_uri='us-docker.pkg.dev/vertex-ai-restricted/training/reductionserver:latest'\n",
    "):\n",
    "\n",
    "    if accelerator_count > 0:\n",
    "        machine_spec = {\n",
    "            'machine_type': machine_type,\n",
    "            'accelerator_type': accelerator_type,\n",
    "            'accelerator_count': accelerator_count,\n",
    "        }\n",
    "    else:\n",
    "        machine_spec = {\n",
    "            'machine_type': machine_type\n",
    "        }\n",
    "    \n",
    "    container_spec = {\n",
    "        'image_uri': image_uri,\n",
    "        'args': args,\n",
    "        'command': cmd,\n",
    "    }\n",
    "    \n",
    "    chief_spec = {\n",
    "        'replica_count': 1,\n",
    "        'machine_spec': machine_spec,\n",
    "        'container_spec': container_spec\n",
    "    }\n",
    "\n",
    "    worker_pool_specs = [chief_spec]\n",
    "    if replica_count > 1:\n",
    "        workers_spec = {\n",
    "            'replica_count': replica_count - 1,\n",
    "            'machine_spec': machine_spec,\n",
    "            'container_spec': container_spec\n",
    "        }\n",
    "        worker_pool_specs.append(workers_spec)\n",
    "        \n",
    "    if reduction_server_count > 1:\n",
    "        workers_spec = {\n",
    "            'replica_count': reduction_server_count,\n",
    "            'machine_spec': {\n",
    "                'machine_type': reduction_server_machine_type,\n",
    "            },\n",
    "            'container_spec': {\n",
    "                'image_uri': reduction_server_image_uri\n",
    "            }\n",
    "        }\n",
    "        worker_pool_specs.append(workers_spec)\n",
    "    \n",
    "    return worker_pool_specs"
   ]
  },
  {
   "cell_type": "markdown",
   "metadata": {},
   "source": [
    "### Prepare a worker pool specification"
   ]
  },
  {
   "cell_type": "code",
   "execution_count": 7,
   "metadata": {},
   "outputs": [
    {
     "name": "stdout",
     "output_type": "stream",
     "text": [
      "{'display_name': 'JOB_20210620_172145',\n",
      " 'job_spec': {'worker_pool_specs': [{'container_spec': {'args': ['--experiment=bert/sentence_prediction',\n",
      "                                                                 '--mode=train',\n",
      "                                                                 '--model_dir=gs://jk-vertex-demos/jobs/JOB_20210620_172145/model',\n",
      "                                                                 '--config_file=trainer/glue_mnli_matched.yaml',\n",
      "                                                                 '--params_override=task.train_data.input_path=gs://jk-vertex-demos/datasets/MNLI/mnli_train.tf_record,task.validation_data.input_path=gs://jk-vertex-demos/datasets/MNLI/mnli_valid.tf_record,task.train_data.global_batch_size=256,task.validation_data.global_batch_size=256,task.hub_module_url=https://tfhub.dev/tensorflow/bert_en_uncased_L-24_H-1024_A-16/4,runtime.num_gpus=1,runtime.distribution_strategy=multi_worker_mirrored,runtime.all_reduce_alg=nccl,runtime.mixed_precision_dtype=mixed_float16,trainer.train_steps=2000,trainer.steps_per_loop=100,trainer.summary_interval=100,trainer.validation_interval=2000,trainer.checkpoint_interval=2000'],\n",
      "                                                        'command': ['python',\n",
      "                                                                    'trainer/train.py'],\n",
      "                                                        'image_uri': 'us-central1-docker.pkg.dev/jk-mlops-dev/jk-docker-repo-us-central1/model_garden'},\n",
      "                                     'machine_spec': {'accelerator_count': 1,\n",
      "                                                      'accelerator_type': 'NVIDIA_TESLA_A100',\n",
      "                                                      'machine_type': 'a2-highgpu-1g'},\n",
      "                                     'replica_count': 1},\n",
      "                                    {'container_spec': {'args': ['--experiment=bert/sentence_prediction',\n",
      "                                                                 '--mode=train',\n",
      "                                                                 '--model_dir=gs://jk-vertex-demos/jobs/JOB_20210620_172145/model',\n",
      "                                                                 '--config_file=trainer/glue_mnli_matched.yaml',\n",
      "                                                                 '--params_override=task.train_data.input_path=gs://jk-vertex-demos/datasets/MNLI/mnli_train.tf_record,task.validation_data.input_path=gs://jk-vertex-demos/datasets/MNLI/mnli_valid.tf_record,task.train_data.global_batch_size=256,task.validation_data.global_batch_size=256,task.hub_module_url=https://tfhub.dev/tensorflow/bert_en_uncased_L-24_H-1024_A-16/4,runtime.num_gpus=1,runtime.distribution_strategy=multi_worker_mirrored,runtime.all_reduce_alg=nccl,runtime.mixed_precision_dtype=mixed_float16,trainer.train_steps=2000,trainer.steps_per_loop=100,trainer.summary_interval=100,trainer.validation_interval=2000,trainer.checkpoint_interval=2000'],\n",
      "                                                        'command': ['python',\n",
      "                                                                    'trainer/train.py'],\n",
      "                                                        'image_uri': 'us-central1-docker.pkg.dev/jk-mlops-dev/jk-docker-repo-us-central1/model_garden'},\n",
      "                                     'machine_spec': {'accelerator_count': 1,\n",
      "                                                      'accelerator_type': 'NVIDIA_TESLA_A100',\n",
      "                                                      'machine_type': 'a2-highgpu-1g'},\n",
      "                                     'replica_count': 7}]}}\n"
     ]
    }
   ],
   "source": [
    "# Task config\n",
    "MNLI_TRAIN_SPLIT = 'gs://jk-vertex-demos/datasets/MNLI/mnli_train.tf_record'\n",
    "MNLI_VALID_SPLIT = 'gs://jk-vertex-demos/datasets/MNLI/mnli_valid.tf_record'\n",
    "BERT_HUB_URL = 'https://tfhub.dev/tensorflow/bert_en_uncased_L-24_H-1024_A-16/4'\n",
    "job_name = \"JOB_{}\".format(time.strftime(\"%Y%m%d_%H%M%S\"))\n",
    "output_dir = f'gs://jk-vertex-demos/jobs'\n",
    "model_dir = f'{output_dir}/{job_name}/model'\n",
    "tfhub_cache_dir = f'{output_dir}/tfhub-cache'\n",
    "config_file = 'trainer/glue_mnli_matched.yaml'\n",
    "#mode = 'train_and_eval'\n",
    "mode = 'train'\n",
    "experiment = 'bert/sentence_prediction'\n",
    "\n",
    "# Chief and workers config\n",
    "mixed_precision_dtype = 'mixed_float16'\n",
    "#machine_type = 'n1-standard-8'\n",
    "machine_type = 'a2-highgpu-1g'\n",
    "accelerator_count = 1\n",
    "#accelerator_type = 'NVIDIA_TESLA_V100' # 16 Gps egress\n",
    "accelerator_type = 'NVIDIA_TESLA_A100'\n",
    "all_reduce_alg = 'nccl'\n",
    "strategy = 'multi_worker_mirrored'\n",
    "replica_count = 8\n",
    "\n",
    "# Reduction server config\n",
    "reduction_server_count=0\n",
    "reduction_server_machine_type='n1-highcpu-16' # 16 Gbps egress\n",
    "\n",
    "# Trainer config\n",
    "train_steps = 2000\n",
    "steps_per_loop = 100\n",
    "summary_interval = 100\n",
    "validation_interval = 2000\n",
    "checkpoint_interval = 2000\n",
    "global_batch_size = 256\n",
    "\n",
    "\n",
    "\n",
    "params_override = [\n",
    "    'task.train_data.input_path=' + MNLI_TRAIN_SPLIT,\n",
    "    'task.validation_data.input_path=' + MNLI_VALID_SPLIT,\n",
    "    'task.train_data.global_batch_size=' + str(global_batch_size),\n",
    "    'task.validation_data.global_batch_size=' + str(global_batch_size),\n",
    "    'task.hub_module_url=' + BERT_HUB_URL,\n",
    "    'runtime.num_gpus=' + str(accelerator_count),\n",
    "    'runtime.distribution_strategy=' + strategy,\n",
    "    'runtime.all_reduce_alg=' + all_reduce_alg,\n",
    "    'runtime.mixed_precision_dtype=' + mixed_precision_dtype,\n",
    "    'trainer.train_steps=' + str(train_steps),\n",
    "    'trainer.steps_per_loop=' + str(steps_per_loop),\n",
    "    'trainer.summary_interval=' + str(summary_interval),\n",
    "    'trainer.validation_interval=' + str(validation_interval),\n",
    "    'trainer.checkpoint_interval=' + str(checkpoint_interval),\n",
    "]\n",
    "\n",
    "\n",
    "cmd = [\n",
    "    \"python\", \"trainer/train.py\"\n",
    "]\n",
    "args = [\n",
    "    '--experiment=' + experiment,\n",
    "    '--mode=' + mode,\n",
    "    '--model_dir=' + model_dir,\n",
    "    '--config_file=' + config_file,\n",
    "#    '--tfhub_cache_dir=' + tfhub_cache_dir,\n",
    "    '--params_override=' + ','.join(params_override),\n",
    "]\n",
    "\n",
    "worker_pool_specs = prepare_worker_pool_specs(\n",
    "    image_uri=TRAIN_IMAGE,\n",
    "    args=args,\n",
    "    cmd=cmd,\n",
    "    replica_count=replica_count,\n",
    "    machine_type=machine_type,\n",
    "    accelerator_count=accelerator_count,\n",
    "    accelerator_type=accelerator_type,\n",
    "    reduction_server_count=reduction_server_count,\n",
    "    reduction_server_machine_type=reduction_server_machine_type,\n",
    ")\n",
    "\n",
    "#pp = pprint.PrettyPrinter()\n",
    "#print(pp.pformat(worker_pool_specs))\n",
    "\n",
    "\n",
    "custom_job_spec = {\n",
    "    'display_name': job_name,\n",
    "    'job_spec': {\n",
    "        'worker_pool_specs': worker_pool_specs\n",
    "    }\n",
    "}\n",
    "pp = pprint.PrettyPrinter()\n",
    "print(pp.pformat(custom_job_spec))"
   ]
  },
  {
   "cell_type": "markdown",
   "metadata": {},
   "source": [
    "### Submit and monitor the job"
   ]
  },
  {
   "cell_type": "code",
   "execution_count": 8,
   "metadata": {},
   "outputs": [
    {
     "data": {
      "text/plain": [
       "name: \"projects/895222332033/locations/us-central1/customJobs/683883038337138688\"\n",
       "display_name: \"JOB_20210620_172145\"\n",
       "job_spec {\n",
       "  worker_pool_specs {\n",
       "    machine_spec {\n",
       "      machine_type: \"a2-highgpu-1g\"\n",
       "      accelerator_type: NVIDIA_TESLA_A100\n",
       "      accelerator_count: 1\n",
       "    }\n",
       "    replica_count: 1\n",
       "    disk_spec {\n",
       "      boot_disk_type: \"pd-ssd\"\n",
       "      boot_disk_size_gb: 100\n",
       "    }\n",
       "    container_spec {\n",
       "      image_uri: \"us-central1-docker.pkg.dev/jk-mlops-dev/jk-docker-repo-us-central1/model_garden\"\n",
       "      command: \"python\"\n",
       "      command: \"trainer/train.py\"\n",
       "      args: \"--experiment=bert/sentence_prediction\"\n",
       "      args: \"--mode=train\"\n",
       "      args: \"--model_dir=gs://jk-vertex-demos/jobs/JOB_20210620_172145/model\"\n",
       "      args: \"--config_file=trainer/glue_mnli_matched.yaml\"\n",
       "      args: \"--params_override=task.train_data.input_path=gs://jk-vertex-demos/datasets/MNLI/mnli_train.tf_record,task.validation_data.input_path=gs://jk-vertex-demos/datasets/MNLI/mnli_valid.tf_record,task.train_data.global_batch_size=256,task.validation_data.global_batch_size=256,task.hub_module_url=https://tfhub.dev/tensorflow/bert_en_uncased_L-24_H-1024_A-16/4,runtime.num_gpus=1,runtime.distribution_strategy=multi_worker_mirrored,runtime.all_reduce_alg=nccl,runtime.mixed_precision_dtype=mixed_float16,trainer.train_steps=2000,trainer.steps_per_loop=100,trainer.summary_interval=100,trainer.validation_interval=2000,trainer.checkpoint_interval=2000\"\n",
       "    }\n",
       "  }\n",
       "  worker_pool_specs {\n",
       "    machine_spec {\n",
       "      machine_type: \"a2-highgpu-1g\"\n",
       "      accelerator_type: NVIDIA_TESLA_A100\n",
       "      accelerator_count: 1\n",
       "    }\n",
       "    replica_count: 7\n",
       "    disk_spec {\n",
       "      boot_disk_type: \"pd-ssd\"\n",
       "      boot_disk_size_gb: 100\n",
       "    }\n",
       "    container_spec {\n",
       "      image_uri: \"us-central1-docker.pkg.dev/jk-mlops-dev/jk-docker-repo-us-central1/model_garden\"\n",
       "      command: \"python\"\n",
       "      command: \"trainer/train.py\"\n",
       "      args: \"--experiment=bert/sentence_prediction\"\n",
       "      args: \"--mode=train\"\n",
       "      args: \"--model_dir=gs://jk-vertex-demos/jobs/JOB_20210620_172145/model\"\n",
       "      args: \"--config_file=trainer/glue_mnli_matched.yaml\"\n",
       "      args: \"--params_override=task.train_data.input_path=gs://jk-vertex-demos/datasets/MNLI/mnli_train.tf_record,task.validation_data.input_path=gs://jk-vertex-demos/datasets/MNLI/mnli_valid.tf_record,task.train_data.global_batch_size=256,task.validation_data.global_batch_size=256,task.hub_module_url=https://tfhub.dev/tensorflow/bert_en_uncased_L-24_H-1024_A-16/4,runtime.num_gpus=1,runtime.distribution_strategy=multi_worker_mirrored,runtime.all_reduce_alg=nccl,runtime.mixed_precision_dtype=mixed_float16,trainer.train_steps=2000,trainer.steps_per_loop=100,trainer.summary_interval=100,trainer.validation_interval=2000,trainer.checkpoint_interval=2000\"\n",
       "    }\n",
       "  }\n",
       "}\n",
       "state: JOB_STATE_PENDING\n",
       "create_time {\n",
       "  seconds: 1624209731\n",
       "  nanos: 525824000\n",
       "}\n",
       "update_time {\n",
       "  seconds: 1624209731\n",
       "  nanos: 525824000\n",
       "}"
      ]
     },
     "execution_count": 8,
     "metadata": {},
     "output_type": "execute_result"
    }
   ],
   "source": [
    "#from google.cloud.aiplatform.gapic import \\\n",
    "#    JobServiceClient\n",
    "\n",
    "\n",
    "\n",
    "options = dict(api_endpoint=API_ENDPOINT)\n",
    "client = JobServiceClient(client_options=options)\n",
    "\n",
    "parent = f\"projects/{PROJECT}/locations/{REGION}\"\n",
    "\n",
    "\n",
    "response = client.create_custom_job(\n",
    "    parent=parent, custom_job=custom_job_spec\n",
    ")\n",
    "\n",
    "response"
   ]
  },
  {
   "cell_type": "code",
   "execution_count": 9,
   "metadata": {},
   "outputs": [
    {
     "data": {
      "text/plain": [
       "<JobState.JOB_STATE_PENDING: 2>"
      ]
     },
     "execution_count": 9,
     "metadata": {},
     "output_type": "execute_result"
    }
   ],
   "source": [
    "client.get_custom_job(name=response.name).state"
   ]
  },
  {
   "cell_type": "markdown",
   "metadata": {},
   "source": [
    "## Upload logs to Tensorboard"
   ]
  },
  {
   "cell_type": "code",
   "execution_count": null,
   "metadata": {},
   "outputs": [],
   "source": [
    "print('TENSORBOARD={}'.format('projects/895222332033/locations/us-central1/tensorboards/5983067289333792768'))\n",
    "print('LOGDIR={}'.format(model_dir))\n",
    "print('EXPERIMENT={}'.format(job_name))\n",
    "print('./tb-gcp-uploader --tensorboard_resource_name $TENSORBOARD   --logdir=$LOGDIR   --experiment_name=$EXPERIMENT --one_shot=True')"
   ]
  },
  {
   "cell_type": "markdown",
   "metadata": {},
   "source": [
    "### Test the container image locally"
   ]
  },
  {
   "cell_type": "code",
   "execution_count": 24,
   "metadata": {},
   "outputs": [],
   "source": [
    "MNLI_TRAIN_SPLIT = 'gs://jk-vertex-demos/datasets/MNLI/mnli_train.tf_record'\n",
    "MNLI_VALID_SPLIT = 'gs://jk-vertex-demos/datasets/MNLI/mnli_valid.tf_record'\n",
    "BERT_HUB_URL = 'https://tfhub.dev/tensorflow/bert_en_uncased_L-24_H-1024_A-16/4'\n",
    "\n",
    "output_dir = '/tmp'\n",
    "num_gpus = 2 \n",
    "strategy = 'mirrored'\n",
    "#strategy = 'multi_worker_mirrored'\n",
    "\n",
    "params_override = [\n",
    "    'task.train_data.input_path=' + MNLI_TRAIN_SPLIT,\n",
    "    'task.validation_data.input_path=' + MNLI_VALID_SPLIT,\n",
    "    'task.hub_module_url=' + BERT_HUB_URL,\n",
    "    'runtime.num_gpus=' + str(num_gpus),\n",
    "    'runtime.distribution_strategy=' + strategy,\n",
    "    'runtime.mixed_precision_dtype=' + 'tf.float16',\n",
    "]\n",
    "\n",
    "params = ','.join(params_override)"
   ]
  },
  {
   "cell_type": "code",
   "execution_count": 25,
   "metadata": {},
   "outputs": [
    {
     "name": "stdout",
     "output_type": "stream",
     "text": [
      "2021-06-20 15:29:17.814177: I tensorflow/stream_executor/platform/default/dso_loader.cc:53] Successfully opened dynamic library libcudart.so.11.0\n",
      "None\n",
      "I0620 15:29:22.275574 139834696824640 train.py:57] Setting model_dir to: /tmp/test\n",
      "I0620 15:29:22.291998 139834696824640 train_utils.py:286] Final experiment parameters: {'runtime': {'all_reduce_alg': None,\n",
      "             'batchnorm_spatial_persistent': False,\n",
      "             'dataset_num_private_threads': None,\n",
      "             'default_shard_dim': -1,\n",
      "             'distribution_strategy': 'mirrored',\n",
      "             'enable_xla': False,\n",
      "             'gpu_thread_mode': None,\n",
      "             'loss_scale': None,\n",
      "             'mixed_precision_dtype': 'tf.float16',\n",
      "             'num_cores_per_replica': 1,\n",
      "             'num_gpus': 2,\n",
      "             'num_packs': 1,\n",
      "             'per_gpu_thread_count': 0,\n",
      "             'run_eagerly': False,\n",
      "             'task_index': -1,\n",
      "             'tpu': None,\n",
      "             'tpu_enable_xla_dynamic_padder': None,\n",
      "             'worker_hosts': None},\n",
      " 'task': {'hub_module_url': 'https://tfhub.dev/tensorflow/bert_en_uncased_L-24_H-1024_A-16/4',\n",
      "          'init_checkpoint': '',\n",
      "          'init_cls_pooler': False,\n",
      "          'metric_type': 'accuracy',\n",
      "          'model': {'encoder': {'bert': {'attention_dropout_rate': 0.1,\n",
      "                                         'dropout_rate': 0.1,\n",
      "                                         'embedding_size': None,\n",
      "                                         'hidden_activation': 'gelu',\n",
      "                                         'hidden_size': 768,\n",
      "                                         'initializer_range': 0.02,\n",
      "                                         'intermediate_size': 3072,\n",
      "                                         'max_position_embeddings': 512,\n",
      "                                         'num_attention_heads': 12,\n",
      "                                         'num_layers': 12,\n",
      "                                         'output_range': None,\n",
      "                                         'return_all_encoder_outputs': False,\n",
      "                                         'type_vocab_size': 2,\n",
      "                                         'vocab_size': 30522},\n",
      "                                'type': 'bert'},\n",
      "                    'num_classes': 3,\n",
      "                    'use_encoder_pooler': False},\n",
      "          'train_data': {'block_length': 1,\n",
      "                         'cache': False,\n",
      "                         'cycle_length': None,\n",
      "                         'deterministic': None,\n",
      "                         'drop_remainder': True,\n",
      "                         'enable_tf_data_service': False,\n",
      "                         'global_batch_size': 32,\n",
      "                         'include_example_id': False,\n",
      "                         'input_path': 'gs://jk-vertex-demos/datasets/MNLI/mnli_train.tf_record',\n",
      "                         'is_training': True,\n",
      "                         'label_type': 'int',\n",
      "                         'seed': None,\n",
      "                         'seq_length': 128,\n",
      "                         'sharding': True,\n",
      "                         'shuffle_buffer_size': 100,\n",
      "                         'tf_data_service_address': None,\n",
      "                         'tf_data_service_job_name': None,\n",
      "                         'tfds_as_supervised': False,\n",
      "                         'tfds_data_dir': '',\n",
      "                         'tfds_name': '',\n",
      "                         'tfds_skip_decoding_feature': '',\n",
      "                         'tfds_split': ''},\n",
      "          'validation_data': {'block_length': 1,\n",
      "                              'cache': False,\n",
      "                              'cycle_length': None,\n",
      "                              'deterministic': None,\n",
      "                              'drop_remainder': False,\n",
      "                              'enable_tf_data_service': False,\n",
      "                              'global_batch_size': 32,\n",
      "                              'include_example_id': False,\n",
      "                              'input_path': 'gs://jk-vertex-demos/datasets/MNLI/mnli_valid.tf_record',\n",
      "                              'is_training': False,\n",
      "                              'label_type': 'int',\n",
      "                              'seed': None,\n",
      "                              'seq_length': 128,\n",
      "                              'sharding': True,\n",
      "                              'shuffle_buffer_size': 100,\n",
      "                              'tf_data_service_address': None,\n",
      "                              'tf_data_service_job_name': None,\n",
      "                              'tfds_as_supervised': False,\n",
      "                              'tfds_data_dir': '',\n",
      "                              'tfds_name': '',\n",
      "                              'tfds_skip_decoding_feature': '',\n",
      "                              'tfds_split': ''}},\n",
      " 'trainer': {'allow_tpu_summary': False,\n",
      "             'best_checkpoint_eval_metric': 'cls_accuracy',\n",
      "             'best_checkpoint_export_subdir': 'best_ckpt',\n",
      "             'best_checkpoint_metric_comp': 'higher',\n",
      "             'checkpoint_interval': 3000,\n",
      "             'continuous_eval_timeout': 3600,\n",
      "             'eval_tf_function': True,\n",
      "             'eval_tf_while_loop': False,\n",
      "             'loss_upper_bound': 1000000.0,\n",
      "             'max_to_keep': 5,\n",
      "             'optimizer_config': {'ema': None,\n",
      "                                  'learning_rate': {'polynomial': {'cycle': False,\n",
      "                                                                   'decay_steps': 36813,\n",
      "                                                                   'end_learning_rate': 0.0,\n",
      "                                                                   'initial_learning_rate': 3e-05,\n",
      "                                                                   'name': 'PolynomialDecay',\n",
      "                                                                   'power': 1.0},\n",
      "                                                    'type': 'polynomial'},\n",
      "                                  'optimizer': {'adamw': {'amsgrad': False,\n",
      "                                                          'beta_1': 0.9,\n",
      "                                                          'beta_2': 0.999,\n",
      "                                                          'clipnorm': None,\n",
      "                                                          'clipvalue': None,\n",
      "                                                          'epsilon': 1e-07,\n",
      "                                                          'exclude_from_weight_decay': ['LayerNorm',\n",
      "                                                                                        'layer_norm',\n",
      "                                                                                        'bias'],\n",
      "                                                          'global_clipnorm': None,\n",
      "                                                          'gradient_clip_norm': 1.0,\n",
      "                                                          'include_in_weight_decay': None,\n",
      "                                                          'name': 'AdamWeightDecay',\n",
      "                                                          'weight_decay_rate': 0.01},\n",
      "                                                'type': 'adamw'},\n",
      "                                  'warmup': {'polynomial': {'name': 'polynomial',\n",
      "                                                            'power': 1,\n",
      "                                                            'warmup_steps': 3681},\n",
      "                                             'type': 'polynomial'}},\n",
      "             'recovery_begin_steps': 0,\n",
      "             'recovery_max_trials': 0,\n",
      "             'steps_per_loop': 1000,\n",
      "             'summary_interval': 1000,\n",
      "             'train_steps': 36813,\n",
      "             'train_tf_function': True,\n",
      "             'train_tf_while_loop': True,\n",
      "             'validation_interval': 6135,\n",
      "             'validation_steps': 307}}\n",
      "I0620 15:29:22.292264 139834696824640 train_utils.py:295] Saving experiment configuration to /tmp/test/params.yaml\n",
      "Traceback (most recent call last):\n",
      "  File \"trainer/train.py\", line 99, in <module>\n",
      "    app.run(main)\n",
      "  File \"/opt/conda/lib/python3.7/site-packages/absl/app.py\", line 303, in run\n",
      "    _run_main(main, args)\n",
      "  File \"/opt/conda/lib/python3.7/site-packages/absl/app.py\", line 251, in _run_main\n",
      "    sys.exit(main(argv))\n",
      "  File \"trainer/train.py\", line 78, in main\n",
      "    performance.set_mixed_precision_policy(params.runtime.mixed_precision_dtype)\n",
      "  File \"/opt/conda/lib/python3.7/site-packages/official/modeling/performance.py\", line 78, in set_mixed_precision_policy\n",
      "    raise ValueError('Unexpected dtype: %s' % dtype)\n",
      "ValueError: Unexpected dtype: tf.float16\n"
     ]
    }
   ],
   "source": [
    "! docker run -it --rm --gpus all {TRAIN_IMAGE} trainer/train.py \\\n",
    "--experiment=bert/sentence_prediction \\\n",
    "--mode=train_and_eval \\\n",
    "--model_dir={output_dir}/test \\\n",
    "--config_file=trainer/glue_mnli_matched.yaml \\\n",
    "--params_override={params}  \n"
   ]
  },
  {
   "cell_type": "code",
   "execution_count": null,
   "metadata": {},
   "outputs": [],
   "source": []
  },
  {
   "cell_type": "code",
   "execution_count": null,
   "metadata": {},
   "outputs": [],
   "source": []
  },
  {
   "cell_type": "code",
   "execution_count": null,
   "metadata": {},
   "outputs": [],
   "source": [
    "#from google.cloud.aiplatform.gapic import \\\n",
    "#    JobServiceClient"
   ]
  },
  {
   "cell_type": "code",
   "execution_count": null,
   "metadata": {},
   "outputs": [],
   "source": [
    "STAGING_BUCKET = f'gs://jk-vertex-{REGION}'\n",
    "\n",
    "aiplatform.init(\n",
    "    project=PROJECT,\n",
    "    location=REGION,\n",
    "    staging_bucket=STAGING_BUCKET\n",
    ")\n",
    "REGION"
   ]
  },
  {
   "cell_type": "code",
   "execution_count": null,
   "metadata": {},
   "outputs": [],
   "source": [
    "display_name = job_name\n",
    "\n",
    "job = aiplatform.CustomJob(\n",
    "    display_name=display_name,\n",
    "    worker_pool_specs=worker_pool_specs,\n",
    ")\n",
    "\n",
    "job.run(sync=True)"
   ]
  }
 ],
 "metadata": {
  "environment": {
   "name": "tf2-gpu.2-5.m70",
   "type": "gcloud",
   "uri": "gcr.io/deeplearning-platform-release/tf2-gpu.2-5:m70"
  },
  "file_extension": ".py",
  "interpreter": {
   "hash": "98b0a9b7b4eaaa670588a142fd0a9b87eaafe866f1db4228be72b4211d12040f"
  },
  "kernelspec": {
   "display_name": "Python 3.7.10 64-bit ('base': conda)",
   "name": "python3"
  },
  "language_info": {
   "codemirror_mode": {
    "name": "ipython",
    "version": 3
   },
   "file_extension": ".py",
   "mimetype": "text/x-python",
   "name": "python",
   "nbconvert_exporter": "python",
   "pygments_lexer": "ipython3",
   "version": "3.7.10"
  },
  "mimetype": "text/x-python",
  "name": "python",
  "npconvert_exporter": "python",
  "pygments_lexer": "ipython3",
  "version": 3
 },
 "nbformat": 4,
 "nbformat_minor": 4
}